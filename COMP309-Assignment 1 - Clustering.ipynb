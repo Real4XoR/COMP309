{
 "cells": [
  {
   "cell_type": "code",
   "execution_count": 1,
   "id": "9d3bf03e-38f3-4c78-8868-4223e6d9e4fd",
   "metadata": {},
   "outputs": [],
   "source": [
    "import numpy as np\n",
    "import pandas as pd\n",
    "import matplotlib.pyplot as plt\n",
    "\n",
    "# clustering models\n",
    "from sklearn.cluster import KMeans\n",
    "from sklearn.cluster import AffinityPropagation\n",
    "from sklearn.cluster import DBSCAN\n",
    "from sklearn.mixture import GaussianMixture\n",
    "from sklearn.cluster import Birch\n",
    "from sklearn.cluster import AgglomerativeClustering\n",
    "from sklearn.cluster import MeanShift"
   ]
  },
  {
   "cell_type": "code",
   "execution_count": 2,
   "id": "53c7c63d-83a9-4f6b-a9fd-4ccc67ca424b",
   "metadata": {},
   "outputs": [
    {
     "ename": "NameError",
     "evalue": "name 'make_blobs' is not defined",
     "output_type": "error",
     "traceback": [
      "\u001b[1;31m---------------------------------------------------------------------------\u001b[0m",
      "\u001b[1;31mNameError\u001b[0m                                 Traceback (most recent call last)",
      "Cell \u001b[1;32mIn[2], line 5\u001b[0m\n\u001b[0;32m      2\u001b[0m np\u001b[38;5;241m.\u001b[39mrandom\u001b[38;5;241m.\u001b[39mseed(\u001b[38;5;241m42\u001b[39m)\n\u001b[0;32m      4\u001b[0m \u001b[38;5;66;03m# Step 2: Generate the toy datasets\u001b[39;00m\n\u001b[1;32m----> 5\u001b[0m dataset1, _ \u001b[38;5;241m=\u001b[39m \u001b[43mmake_blobs\u001b[49m(n_samples\u001b[38;5;241m=\u001b[39m\u001b[38;5;241m1000\u001b[39m, n_features\u001b[38;5;241m=\u001b[39m\u001b[38;5;241m2\u001b[39m, centers\u001b[38;5;241m=\u001b[39m\u001b[38;5;241m3\u001b[39m)\n\u001b[0;32m      6\u001b[0m dataset2, _ \u001b[38;5;241m=\u001b[39m make_classification(n_samples\u001b[38;5;241m=\u001b[39m\u001b[38;5;241m1000\u001b[39m, n_features\u001b[38;5;241m=\u001b[39m\u001b[38;5;241m2\u001b[39m, n_informative\u001b[38;5;241m=\u001b[39m\u001b[38;5;241m2\u001b[39m, n_redundant\u001b[38;5;241m=\u001b[39m\u001b[38;5;241m0\u001b[39m, n_repeated\u001b[38;5;241m=\u001b[39m\u001b[38;5;241m0\u001b[39m, n_clusters_per_class\u001b[38;5;241m=\u001b[39m\u001b[38;5;241m1\u001b[39m)\n\u001b[0;32m      7\u001b[0m dataset3, _ \u001b[38;5;241m=\u001b[39m make_circles(n_samples\u001b[38;5;241m=\u001b[39m\u001b[38;5;241m1000\u001b[39m, noise\u001b[38;5;241m=\u001b[39m\u001b[38;5;241m0.3\u001b[39m)\n",
      "\u001b[1;31mNameError\u001b[0m: name 'make_blobs' is not defined"
     ]
    }
   ],
   "source": [
    "# Set the seed for reproducibility\n",
    "np.random.seed(42)\n",
    "\n",
    "# Step 2: Generate the toy datasets\n",
    "dataset1, _ = make_blobs(n_samples=1000, n_features=2, centers=3)\n",
    "dataset2, _ = make_classification(n_samples=1000, n_features=2, n_informative=2, n_redundant=0, n_repeated=0, n_clusters_per_class=1)\n",
    "dataset3, _ = make_circles(n_samples=1000, noise=0.3)\n",
    "\n",
    "# Step 3: Initialize the clustering algorithms\n",
    "kmeans = KMeans(n_clusters=3)\n",
    "aff_prop = AffinityPropagation()\n",
    "dbscan = DBSCAN()\n",
    "gmm = GaussianMixture(n_components=3)\n",
    "birch = Birch(n_clusters=3)\n",
    "agg_clust = AgglomerativeClustering(n_clusters=3)\n",
    "mean_shift = MeanShift()\n",
    "\n",
    "# Step 4: Fit each model on the datasets and make predictions\n",
    "datasets = [dataset1, dataset2, dataset3]\n",
    "clustering_algorithms = [kmeans, aff_prop, dbscan, gmm, birch, agg_clust, mean_shift]\n",
    "\n",
    "cluster_assignments = []\n",
    "for algo in clustering_algorithms:\n",
    "    for dataset_idx, dataset in enumerate(datasets):\n",
    "        algo_clusters = []\n",
    "        if algo.__class__.__name__ == 'GaussianMixture':\n",
    "            algo.fit(dataset)\n",
    "            cluster_assignments.append(algo.predict(dataset))\n",
    "        elif algo.__class__.__name__ == 'DBSCAN':\n",
    "            labels = algo.fit_predict(dataset)\n",
    "            unique_labels = np.unique(labels)\n",
    "            cluster_assignments.append(np.where(labels == -1, len(unique_labels), labels))\n",
    "        else:\n",
    "            algo.fit(dataset)\n",
    "            if hasattr(algo, 'labels_'):  # Some algorithms have 'labels_', others have 'predict'\n",
    "                cluster_assignments.append(algo.labels_)\n",
    "            else:\n",
    "                cluster_assignments.append(algo.predict(dataset))\n",
    "        algo_clusters.append(cluster_assignments[-1])\n",
    "        plt.figure(figsize=(15, 5))\n",
    "        plt.subplot(1, 3, dataset_idx + 1)\n",
    "        plt.scatter(dataset[:, 0], dataset[:, 1], c=algo_clusters[-1], cmap='rainbow')\n",
    "        plt.title(f\"{algo.__class__.__name__} Clustering - Dataset {dataset_idx + 1}\")\n",
    "    plt.show()"
   ]
  },
  {
   "cell_type": "code",
   "execution_count": null,
   "id": "18de4e9e-b56a-4ab9-a7db-591204ef41b6",
   "metadata": {},
   "outputs": [],
   "source": []
  }
 ],
 "metadata": {
  "kernelspec": {
   "display_name": "Python 3 (ipykernel)",
   "language": "python",
   "name": "python3"
  },
  "language_info": {
   "codemirror_mode": {
    "name": "ipython",
    "version": 3
   },
   "file_extension": ".py",
   "mimetype": "text/x-python",
   "name": "python",
   "nbconvert_exporter": "python",
   "pygments_lexer": "ipython3",
   "version": "3.11.2"
  }
 },
 "nbformat": 4,
 "nbformat_minor": 5
}
